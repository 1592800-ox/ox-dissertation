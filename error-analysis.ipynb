{
 "cells": [
  {
   "cell_type": "code",
   "execution_count": null,
   "metadata": {},
   "outputs": [],
   "source": [
    "# load the pridict, deepprime and conventional ML models\n",
    "import os\n",
    "import sys\n",
    "import numpy as np\n",
    "import pandas as pd\n",
    "import pickle\n",
    "import torch\n",
    "import skorch\n",
    "\n",
    "from models.deepprime import predict_deep_prime\n",
    "from models.pridict import predict_pridict\n",
    "\n",
    "dataf = 'pd-hek293t-pe2.csv'\n",
    "\n",
    "data_dp = f'dp-{dataf}'\n",
    "data_pd = f'pd-{dataf}'\n",
    "\n",
    "predict_pridict(data_pd, num_features=24, device='cuda' if torch.cuda.is_available() else 'cpu', dropout=0)"
   ]
  }
 ],
 "metadata": {
  "kernelspec": {
   "display_name": "dl",
   "language": "python",
   "name": "python3"
  },
  "language_info": {
   "name": "python",
   "version": "3.11.7"
  }
 },
 "nbformat": 4,
 "nbformat_minor": 2
}
