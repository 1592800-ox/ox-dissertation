{
 "cells": [
  {
   "cell_type": "code",
   "execution_count": 2,
   "metadata": {},
   "outputs": [
    {
     "name": "stderr",
     "output_type": "stream",
     "text": [
      " 26%|██▌       | 7468/29199 [01:04<03:19, 108.99it/s]"
     ]
    }
   ],
   "source": [
    "from models.transformer import visualize_attention\n",
    "\n",
    "model_name = 'dp-hek293t-pe2'\n",
    "attentions = visualize_attention(percentage=1, model_name=model_name, num_encoder_units=1)\n",
    "\n",
    "# save the attention matrix\n",
    "import numpy as np\n",
    "np.save(f'attentions_{model_name}.npy', attentions)"
   ]
  },
  {
   "cell_type": "code",
   "execution_count": 1,
   "metadata": {},
   "outputs": [
    {
     "ename": "NameError",
     "evalue": "name 'attentions' is not defined",
     "output_type": "error",
     "traceback": [
      "\u001b[0;31m---------------------------------------------------------------------------\u001b[0m",
      "\u001b[0;31mNameError\u001b[0m                                 Traceback (most recent call last)",
      "Cell \u001b[0;32mIn[1], line 11\u001b[0m\n\u001b[1;32m      9\u001b[0m plt\u001b[38;5;241m.\u001b[39mfigure(figsize\u001b[38;5;241m=\u001b[39m(\u001b[38;5;241m10\u001b[39m, \u001b[38;5;241m10\u001b[39m))\n\u001b[1;32m     10\u001b[0m \u001b[38;5;66;03m# annotate the diagonal with the values\u001b[39;00m\n\u001b[0;32m---> 11\u001b[0m annot \u001b[38;5;241m=\u001b[39m np\u001b[38;5;241m.\u001b[39mzeros_like(\u001b[43mattentions\u001b[49m[i][j])\n\u001b[1;32m     12\u001b[0m np\u001b[38;5;241m.\u001b[39mfill_diagonal(annot, np\u001b[38;5;241m.\u001b[39marray(attentions[i][j])\u001b[38;5;241m.\u001b[39mdiagonal())\n\u001b[1;32m     13\u001b[0m attn \u001b[38;5;241m=\u001b[39m attentions[i][j]\n",
      "\u001b[0;31mNameError\u001b[0m: name 'attentions' is not defined"
     ]
    },
    {
     "data": {
      "text/plain": [
       "<Figure size 1000x1000 with 0 Axes>"
      ]
     },
     "metadata": {},
     "output_type": "display_data"
    }
   ],
   "source": [
    "import matplotlib.pyplot as plt\n",
    "import seaborn as sns\n",
    "import numpy as np\n",
    "\n",
    "attentions = np.load('attentions.npy', allow_pickle=True)\n",
    "\n",
    "num_heads = 2\n",
    "# plot the attention weights for each head and edit type\n",
    "for i in range(3):\n",
    "    for j in range(num_heads):\n",
    "        plt.figure(figsize=(10, 10))\n",
    "        # annotate the diagonal with the values\n",
    "        annot = np.zeros_like(attentions[i][j])\n",
    "        np.fill_diagonal(annot, attentions[i][j].diagonal())\n",
    "        attn = attentions[i][j]\n",
    "        # remove the regions \n",
    "        sns.heatmap(attentions[i][j], cmap='coolwarm', annot=annot, fmt=\".2f\", linewidths=.5, annot_kws={\"size\": 1})\n",
    "        plt.title(f'Attention weights for head {j} and edit type {i}')\n",
    "        plt.show()"
   ]
  }
 ],
 "metadata": {
  "kernelspec": {
   "display_name": "dl",
   "language": "python",
   "name": "python3"
  },
  "language_info": {
   "codemirror_mode": {
    "name": "ipython",
    "version": 3
   },
   "file_extension": ".py",
   "mimetype": "text/x-python",
   "name": "python",
   "nbconvert_exporter": "python",
   "pygments_lexer": "ipython3",
   "version": "3.11.7"
  }
 },
 "nbformat": 4,
 "nbformat_minor": 2
}
