{
 "cells": [
  {
   "cell_type": "code",
   "execution_count": 1,
   "metadata": {},
   "outputs": [
    {
     "name": "stderr",
     "output_type": "stream",
     "text": [
      "/home/peiheng/ox-dissertation/models/data/data_utils.py:119: DtypeWarning: Columns (97,98) have mixed types. Specify dtype option on import or set low_memory=False.\n",
      "  data = pd.read_csv(source)\n",
      "100%|██████████| 29803/29803 [00:04<00:00, 7038.55it/s]\n"
     ]
    }
   ],
   "source": [
    "from data.data_utils import convert_from_pridict2\n",
    "from os.path import join as pjoin\n",
    "\n",
    "convert_from_pridict2(pjoin('data', 'pridict', 'pridict2.csv'), pjoin('data', 'pd-pe2-hek-k562.csv'))"
   ]
  },
  {
   "cell_type": "code",
   "execution_count": 2,
   "metadata": {},
   "outputs": [
    {
     "name": "stderr",
     "output_type": "stream",
     "text": [
      "/home/peiheng/ox-dissertation/models/data/data_utils.py:23: DtypeWarning: Columns (29) have mixed types. Specify dtype option on import or set low_memory=False.\n",
      "  data = pd.read_csv(source)\n",
      "100%|██████████| 288793/288793 [00:14<00:00, 19593.73it/s]\n"
     ]
    }
   ],
   "source": [
    "from data.data_utils import convert_from_deepprime\n",
    "from os.path import join as pjoin\n",
    "\n",
    "convert_from_deepprime(pjoin('data', 'deepprime', 'Library-ClinVar_HEK293T_PE2.csv'), pjoin('data', 'dp-pe2-hek.csv'))"
   ]
  },
  {
   "cell_type": "code",
   "execution_count": 6,
   "metadata": {},
   "outputs": [],
   "source": [
    "# split pd-pe2-hek-k562.csv's hek dataset based on edit type\n",
    "import pandas as pd\n",
    "from typing import Dict\n",
    "\n",
    "data = pd.read_csv(pjoin('data', 'pd-pe2-hek-k562.csv'))\n",
    "hek_data = data[data['cell-line'] == 'HEK293T']\n",
    "# store the data based on edit type\n",
    "edit_types: Dict[int, str] = {0: 'replace', 1: 'insert', 2: 'delete'}\n",
    "\n",
    "for edit_type in edit_types:\n",
    "    edit_data = hek_data[hek_data['mut-type'] == edit_type]\n",
    "    edit_data.to_csv(pjoin('data', f'pd-pe2-hek-{edit_types[edit_type]}.csv'), index=False)"
   ]
  }
 ],
 "metadata": {
  "kernelspec": {
   "display_name": "dl",
   "language": "python",
   "name": "python3"
  },
  "language_info": {
   "codemirror_mode": {
    "name": "ipython",
    "version": 3
   },
   "file_extension": ".py",
   "mimetype": "text/x-python",
   "name": "python",
   "nbconvert_exporter": "python",
   "pygments_lexer": "ipython3",
   "version": "3.11.7"
  }
 },
 "nbformat": 4,
 "nbformat_minor": 2
}
