{
 "cells": [
  {
   "cell_type": "markdown",
   "metadata": {},
   "source": [
    "# Benchmark on all dataset"
   ]
  },
  {
   "cell_type": "code",
   "execution_count": 1,
   "metadata": {},
   "outputs": [],
   "source": [
    "# Benchmark all models produced in this study\n",
    "from models.deepprime import predict as deepprime_predict\n",
    "from models.pridict import predict as pridict_predict\n",
    "from models.transformer import predict as transformer_predict\n",
    "from models.ensemble_adaboost import predict as ensemble_adaboost_predict\n",
    "from models.ensemble_bagging import predict as ensemble_bagging_predict\n",
    "from models.ensemble_weighted_mean import predict as ensemble_weighted_mean_predict\n",
    "from models.conventional_ml_models import mlp_predict, random_forest_predict, xgboost_predict, ridge_predict\n",
    "from glob import glob\n",
    "from os.path import join as pjoin, basename\n",
    "\n",
    "# run predictions on all models on each dataset, calculate the pearson and spearman correlation\n",
    "performance = {}\n",
    "\n",
    "for data in glob(pjoin('models', 'data', 'std', '*.csv')):\n",
    "    data_name = basename(data)\n",
    "    print(data_name)\n",
    "    # run predictions on all models\n",
    "    for model in [deepprime_predict, pridict_predict, transformer_predict, ensemble_adaboost_predict, ensemble_bagging_predict, ensemble_weighted_mean_predict, mlp_predict, random_forest_predict, xgboost_predict, ridge_predict]:\n",
    "        print(model)\n",
    "        predictions = model(data_name)"
   ]
  },
  {
   "cell_type": "markdown",
   "metadata": {},
   "source": [
    "# Benchmark on Individual Edit Types"
   ]
  },
  {
   "cell_type": "code",
   "execution_count": null,
   "metadata": {},
   "outputs": [],
   "source": []
  }
 ],
 "metadata": {
  "kernelspec": {
   "display_name": "dl",
   "language": "python",
   "name": "python3"
  },
  "language_info": {
   "codemirror_mode": {
    "name": "ipython",
    "version": 3
   },
   "file_extension": ".py",
   "mimetype": "text/x-python",
   "name": "python",
   "nbconvert_exporter": "python",
   "pygments_lexer": "ipython3",
   "version": "3.11.7"
  }
 },
 "nbformat": 4,
 "nbformat_minor": 2
}
